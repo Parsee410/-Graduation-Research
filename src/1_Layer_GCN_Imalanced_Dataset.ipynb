{
 "cells": [
  {
   "cell_type": "markdown",
   "metadata": {
    "id": "QFUY7LjJc15O"
   },
   "source": [
    "# 必要なライブラリの準備"
   ]
  },
  {
   "cell_type": "code",
   "execution_count": 1,
   "metadata": {
    "colab": {
     "base_uri": "https://localhost:8080/"
    },
    "id": "oo9Lokl2nTXq",
    "outputId": "a5dad170-67b6-4090-c7eb-b80e72fc00fc"
   },
   "outputs": [
    {
     "name": "stderr",
     "output_type": "stream",
     "text": [
      "Using backend: pytorch\n"
     ]
    }
   ],
   "source": [
    "import dgl\n",
    "from dgl.nn.pytorch import GraphConv\n",
    "\n",
    "import torch\n",
    "import torch.nn as nn\n",
    "import torch.nn.functional as F\n",
    "import torch.optim as optim\n",
    "from torch.utils.data import DataLoader, Subset\n",
    "\n",
    "from sklearn.model_selection import KFold\n",
    "from sklearn.metrics import accuracy_score, precision_score, recall_score, f1_score, roc_curve, roc_auc_score, confusion_matrix\n",
    "from time import time\n",
    "from copy import deepcopy\n",
    "\n",
    "import numpy as np\n",
    "import pandas as pd\n",
    "\n",
    "import pickle\n",
    "import json\n",
    "\n",
    "from winsound import Beep\n",
    "\n",
    "import matplotlib.pyplot as plt\n",
    "from matplotlib import ticker\n",
    "%matplotlib inline"
   ]
  },
  {
   "cell_type": "markdown",
   "metadata": {
    "id": "Qnmtxo6vc9xU"
   },
   "source": [
    "# ハイパーパラメータ・活性化関数・最適化アルゴリズムの定義"
   ]
  },
  {
   "cell_type": "code",
   "execution_count": 2,
   "metadata": {
    "id": "BmUiLGiepGw3"
   },
   "outputs": [],
   "source": [
    "hyperparam_dict = {\n",
    "\n",
    "    'API_type' : 307,\n",
    "    'hidden1_dim' : 14,\n",
    "    'n_classes' : 1,\n",
    "\n",
    "    'bias1' : True,\n",
    "    'bias2' : True,\n",
    "    'activation1' : F.relu,\n",
    "    'conv1_norm' : 'both',\n",
    "\n",
    "    'dropout0_rate' : 0,\n",
    "    'dropout1_rate' : 0,\n",
    "    'batch_norm' : True,\n",
    "\n",
    "    'epoch' : 200,\n",
    "    'loss_func' : nn.BCEWithLogitsLoss(),\n",
    "\n",
    "    'optimizer' : {\n",
    "        'algorithm' : optim.Adam,\n",
    "        'param' : {\n",
    "            'lr' : 1e-4,\n",
    "            'weight_decay' : 1e-2,\n",
    "        }\n",
    "    },\n",
    "\n",
    "    'batch_size' : 64,\n",
    "    'n_splits' : 10,\n",
    "\n",
    "    'fold_index' : 0,\n",
    "    'fold_random_state' : 0,\n",
    "    'weight_random_state' : 0,\n",
    "\n",
    "    'device' : torch.device('cuda'),\n",
    "\n",
    "}"
   ]
  },
  {
   "cell_type": "markdown",
   "metadata": {
    "id": "XHCeWdcSecrQ"
   },
   "source": [
    "# データセットの作成"
   ]
  },
  {
   "cell_type": "code",
   "execution_count": 3,
   "metadata": {
    "colab": {
     "base_uri": "https://localhost:8080/",
     "height": 435
    },
    "id": "x6s4U0pG_lr_",
    "outputId": "915514d5-2fbb-4c5c-f38a-c39292fcf1e3"
   },
   "outputs": [
    {
     "data": {
      "text/html": [
       "<div>\n",
       "<style scoped>\n",
       "    .dataframe tbody tr th:only-of-type {\n",
       "        vertical-align: middle;\n",
       "    }\n",
       "\n",
       "    .dataframe tbody tr th {\n",
       "        vertical-align: top;\n",
       "    }\n",
       "\n",
       "    .dataframe thead th {\n",
       "        text-align: right;\n",
       "    }\n",
       "</style>\n",
       "<table border=\"1\" class=\"dataframe\">\n",
       "  <thead>\n",
       "    <tr style=\"text-align: right;\">\n",
       "      <th></th>\n",
       "      <th>hash</th>\n",
       "      <th>t_0</th>\n",
       "      <th>t_1</th>\n",
       "      <th>t_2</th>\n",
       "      <th>t_3</th>\n",
       "      <th>t_4</th>\n",
       "      <th>t_5</th>\n",
       "      <th>t_6</th>\n",
       "      <th>t_7</th>\n",
       "      <th>t_8</th>\n",
       "      <th>...</th>\n",
       "      <th>t_91</th>\n",
       "      <th>t_92</th>\n",
       "      <th>t_93</th>\n",
       "      <th>t_94</th>\n",
       "      <th>t_95</th>\n",
       "      <th>t_96</th>\n",
       "      <th>t_97</th>\n",
       "      <th>t_98</th>\n",
       "      <th>t_99</th>\n",
       "      <th>malware</th>\n",
       "    </tr>\n",
       "  </thead>\n",
       "  <tbody>\n",
       "    <tr>\n",
       "      <th>0</th>\n",
       "      <td>071e8c3f8922e186e57548cd4c703a5d</td>\n",
       "      <td>112</td>\n",
       "      <td>274</td>\n",
       "      <td>158</td>\n",
       "      <td>215</td>\n",
       "      <td>274</td>\n",
       "      <td>158</td>\n",
       "      <td>215</td>\n",
       "      <td>298</td>\n",
       "      <td>76</td>\n",
       "      <td>...</td>\n",
       "      <td>71</td>\n",
       "      <td>297</td>\n",
       "      <td>135</td>\n",
       "      <td>171</td>\n",
       "      <td>215</td>\n",
       "      <td>35</td>\n",
       "      <td>208</td>\n",
       "      <td>56</td>\n",
       "      <td>71</td>\n",
       "      <td>1</td>\n",
       "    </tr>\n",
       "    <tr>\n",
       "      <th>1</th>\n",
       "      <td>33f8e6d08a6aae939f25a8e0d63dd523</td>\n",
       "      <td>82</td>\n",
       "      <td>208</td>\n",
       "      <td>187</td>\n",
       "      <td>208</td>\n",
       "      <td>172</td>\n",
       "      <td>117</td>\n",
       "      <td>172</td>\n",
       "      <td>117</td>\n",
       "      <td>172</td>\n",
       "      <td>...</td>\n",
       "      <td>81</td>\n",
       "      <td>240</td>\n",
       "      <td>117</td>\n",
       "      <td>71</td>\n",
       "      <td>297</td>\n",
       "      <td>135</td>\n",
       "      <td>171</td>\n",
       "      <td>215</td>\n",
       "      <td>35</td>\n",
       "      <td>1</td>\n",
       "    </tr>\n",
       "    <tr>\n",
       "      <th>2</th>\n",
       "      <td>b68abd064e975e1c6d5f25e748663076</td>\n",
       "      <td>16</td>\n",
       "      <td>110</td>\n",
       "      <td>240</td>\n",
       "      <td>117</td>\n",
       "      <td>240</td>\n",
       "      <td>117</td>\n",
       "      <td>240</td>\n",
       "      <td>117</td>\n",
       "      <td>240</td>\n",
       "      <td>...</td>\n",
       "      <td>65</td>\n",
       "      <td>112</td>\n",
       "      <td>123</td>\n",
       "      <td>65</td>\n",
       "      <td>112</td>\n",
       "      <td>123</td>\n",
       "      <td>65</td>\n",
       "      <td>113</td>\n",
       "      <td>112</td>\n",
       "      <td>1</td>\n",
       "    </tr>\n",
       "    <tr>\n",
       "      <th>3</th>\n",
       "      <td>72049be7bd30ea61297ea624ae198067</td>\n",
       "      <td>82</td>\n",
       "      <td>208</td>\n",
       "      <td>187</td>\n",
       "      <td>208</td>\n",
       "      <td>172</td>\n",
       "      <td>117</td>\n",
       "      <td>172</td>\n",
       "      <td>117</td>\n",
       "      <td>172</td>\n",
       "      <td>...</td>\n",
       "      <td>208</td>\n",
       "      <td>302</td>\n",
       "      <td>208</td>\n",
       "      <td>302</td>\n",
       "      <td>187</td>\n",
       "      <td>208</td>\n",
       "      <td>302</td>\n",
       "      <td>228</td>\n",
       "      <td>302</td>\n",
       "      <td>1</td>\n",
       "    </tr>\n",
       "    <tr>\n",
       "      <th>4</th>\n",
       "      <td>c9b3700a77facf29172f32df6bc77f48</td>\n",
       "      <td>82</td>\n",
       "      <td>240</td>\n",
       "      <td>117</td>\n",
       "      <td>240</td>\n",
       "      <td>117</td>\n",
       "      <td>240</td>\n",
       "      <td>117</td>\n",
       "      <td>240</td>\n",
       "      <td>117</td>\n",
       "      <td>...</td>\n",
       "      <td>209</td>\n",
       "      <td>260</td>\n",
       "      <td>40</td>\n",
       "      <td>209</td>\n",
       "      <td>260</td>\n",
       "      <td>141</td>\n",
       "      <td>260</td>\n",
       "      <td>141</td>\n",
       "      <td>260</td>\n",
       "      <td>1</td>\n",
       "    </tr>\n",
       "    <tr>\n",
       "      <th>...</th>\n",
       "      <td>...</td>\n",
       "      <td>...</td>\n",
       "      <td>...</td>\n",
       "      <td>...</td>\n",
       "      <td>...</td>\n",
       "      <td>...</td>\n",
       "      <td>...</td>\n",
       "      <td>...</td>\n",
       "      <td>...</td>\n",
       "      <td>...</td>\n",
       "      <td>...</td>\n",
       "      <td>...</td>\n",
       "      <td>...</td>\n",
       "      <td>...</td>\n",
       "      <td>...</td>\n",
       "      <td>...</td>\n",
       "      <td>...</td>\n",
       "      <td>...</td>\n",
       "      <td>...</td>\n",
       "      <td>...</td>\n",
       "      <td>...</td>\n",
       "    </tr>\n",
       "    <tr>\n",
       "      <th>43871</th>\n",
       "      <td>e3d6d58faa040f0f9742c9d0eaf58be4</td>\n",
       "      <td>82</td>\n",
       "      <td>240</td>\n",
       "      <td>117</td>\n",
       "      <td>240</td>\n",
       "      <td>117</td>\n",
       "      <td>240</td>\n",
       "      <td>117</td>\n",
       "      <td>240</td>\n",
       "      <td>117</td>\n",
       "      <td>...</td>\n",
       "      <td>141</td>\n",
       "      <td>260</td>\n",
       "      <td>141</td>\n",
       "      <td>260</td>\n",
       "      <td>141</td>\n",
       "      <td>260</td>\n",
       "      <td>141</td>\n",
       "      <td>260</td>\n",
       "      <td>141</td>\n",
       "      <td>1</td>\n",
       "    </tr>\n",
       "    <tr>\n",
       "      <th>43872</th>\n",
       "      <td>9b917bab7f32188ae40c744f2be9aaf8</td>\n",
       "      <td>82</td>\n",
       "      <td>240</td>\n",
       "      <td>117</td>\n",
       "      <td>240</td>\n",
       "      <td>117</td>\n",
       "      <td>240</td>\n",
       "      <td>117</td>\n",
       "      <td>240</td>\n",
       "      <td>117</td>\n",
       "      <td>...</td>\n",
       "      <td>159</td>\n",
       "      <td>224</td>\n",
       "      <td>82</td>\n",
       "      <td>159</td>\n",
       "      <td>224</td>\n",
       "      <td>82</td>\n",
       "      <td>159</td>\n",
       "      <td>224</td>\n",
       "      <td>82</td>\n",
       "      <td>1</td>\n",
       "    </tr>\n",
       "    <tr>\n",
       "      <th>43873</th>\n",
       "      <td>35a18ee05f75f04912018d9f462cb990</td>\n",
       "      <td>82</td>\n",
       "      <td>240</td>\n",
       "      <td>117</td>\n",
       "      <td>240</td>\n",
       "      <td>117</td>\n",
       "      <td>240</td>\n",
       "      <td>117</td>\n",
       "      <td>240</td>\n",
       "      <td>117</td>\n",
       "      <td>...</td>\n",
       "      <td>260</td>\n",
       "      <td>141</td>\n",
       "      <td>260</td>\n",
       "      <td>141</td>\n",
       "      <td>260</td>\n",
       "      <td>141</td>\n",
       "      <td>260</td>\n",
       "      <td>141</td>\n",
       "      <td>260</td>\n",
       "      <td>1</td>\n",
       "    </tr>\n",
       "    <tr>\n",
       "      <th>43874</th>\n",
       "      <td>654139d715abcf7ecdddbef5a84f224b</td>\n",
       "      <td>82</td>\n",
       "      <td>240</td>\n",
       "      <td>117</td>\n",
       "      <td>240</td>\n",
       "      <td>117</td>\n",
       "      <td>240</td>\n",
       "      <td>117</td>\n",
       "      <td>240</td>\n",
       "      <td>117</td>\n",
       "      <td>...</td>\n",
       "      <td>141</td>\n",
       "      <td>260</td>\n",
       "      <td>141</td>\n",
       "      <td>260</td>\n",
       "      <td>141</td>\n",
       "      <td>260</td>\n",
       "      <td>141</td>\n",
       "      <td>260</td>\n",
       "      <td>141</td>\n",
       "      <td>1</td>\n",
       "    </tr>\n",
       "    <tr>\n",
       "      <th>43875</th>\n",
       "      <td>078c9d4e7be4819a06974c6f292a4857</td>\n",
       "      <td>112</td>\n",
       "      <td>274</td>\n",
       "      <td>158</td>\n",
       "      <td>215</td>\n",
       "      <td>274</td>\n",
       "      <td>158</td>\n",
       "      <td>215</td>\n",
       "      <td>298</td>\n",
       "      <td>76</td>\n",
       "      <td>...</td>\n",
       "      <td>71</td>\n",
       "      <td>297</td>\n",
       "      <td>135</td>\n",
       "      <td>171</td>\n",
       "      <td>215</td>\n",
       "      <td>35</td>\n",
       "      <td>208</td>\n",
       "      <td>56</td>\n",
       "      <td>71</td>\n",
       "      <td>1</td>\n",
       "    </tr>\n",
       "  </tbody>\n",
       "</table>\n",
       "<p>43876 rows × 102 columns</p>\n",
       "</div>"
      ],
      "text/plain": [
       "                                   hash  t_0  t_1  t_2  t_3  t_4  t_5  t_6  \\\n",
       "0      071e8c3f8922e186e57548cd4c703a5d  112  274  158  215  274  158  215   \n",
       "1      33f8e6d08a6aae939f25a8e0d63dd523   82  208  187  208  172  117  172   \n",
       "2      b68abd064e975e1c6d5f25e748663076   16  110  240  117  240  117  240   \n",
       "3      72049be7bd30ea61297ea624ae198067   82  208  187  208  172  117  172   \n",
       "4      c9b3700a77facf29172f32df6bc77f48   82  240  117  240  117  240  117   \n",
       "...                                 ...  ...  ...  ...  ...  ...  ...  ...   \n",
       "43871  e3d6d58faa040f0f9742c9d0eaf58be4   82  240  117  240  117  240  117   \n",
       "43872  9b917bab7f32188ae40c744f2be9aaf8   82  240  117  240  117  240  117   \n",
       "43873  35a18ee05f75f04912018d9f462cb990   82  240  117  240  117  240  117   \n",
       "43874  654139d715abcf7ecdddbef5a84f224b   82  240  117  240  117  240  117   \n",
       "43875  078c9d4e7be4819a06974c6f292a4857  112  274  158  215  274  158  215   \n",
       "\n",
       "       t_7  t_8  ...  t_91  t_92  t_93  t_94  t_95  t_96  t_97  t_98  t_99  \\\n",
       "0      298   76  ...    71   297   135   171   215    35   208    56    71   \n",
       "1      117  172  ...    81   240   117    71   297   135   171   215    35   \n",
       "2      117  240  ...    65   112   123    65   112   123    65   113   112   \n",
       "3      117  172  ...   208   302   208   302   187   208   302   228   302   \n",
       "4      240  117  ...   209   260    40   209   260   141   260   141   260   \n",
       "...    ...  ...  ...   ...   ...   ...   ...   ...   ...   ...   ...   ...   \n",
       "43871  240  117  ...   141   260   141   260   141   260   141   260   141   \n",
       "43872  240  117  ...   159   224    82   159   224    82   159   224    82   \n",
       "43873  240  117  ...   260   141   260   141   260   141   260   141   260   \n",
       "43874  240  117  ...   141   260   141   260   141   260   141   260   141   \n",
       "43875  298   76  ...    71   297   135   171   215    35   208    56    71   \n",
       "\n",
       "       malware  \n",
       "0            1  \n",
       "1            1  \n",
       "2            1  \n",
       "3            1  \n",
       "4            1  \n",
       "...        ...  \n",
       "43871        1  \n",
       "43872        1  \n",
       "43873        1  \n",
       "43874        1  \n",
       "43875        1  \n",
       "\n",
       "[43876 rows x 102 columns]"
      ]
     },
     "execution_count": 3,
     "metadata": {},
     "output_type": "execute_result"
    }
   ],
   "source": [
    "df = pd.read_csv('./dynamic_api_call_sequence_per_malware_100_0_306.csv')\n",
    "df"
   ]
  },
  {
   "cell_type": "code",
   "execution_count": 4,
   "metadata": {
    "colab": {
     "base_uri": "https://localhost:8080/"
    },
    "id": "BhnWIl88AUFQ",
    "outputId": "23da65f5-5109-4777-8264-0e3a349b75f5"
   },
   "outputs": [
    {
     "name": "stdout",
     "output_type": "stream",
     "text": [
      "(43876, 100)\n",
      "(43876,)\n"
     ]
    }
   ],
   "source": [
    "X = df.drop(['hash', 'malware'], axis = 1).values.astype(int)\n",
    "y = df['malware'].values.astype(float)\n",
    "del df\n",
    "print(X.shape)\n",
    "print(y.shape)"
   ]
  },
  {
   "cell_type": "code",
   "execution_count": 5,
   "metadata": {
    "id": "DLN0_mN8iyPu"
   },
   "outputs": [],
   "source": [
    "def Seq2Graph(X, y, nodes):\n",
    "\n",
    "    data_list = []\n",
    "    for seq, label in zip(*(X, y)):       \n",
    "        graph = dgl.DGLGraph()\n",
    "        graph.add_nodes(nodes)\n",
    "        graph.ndata['feat'] = torch.eye(nodes)\n",
    "        graph.add_edges(seq[:-1], seq[1:])\n",
    "        data = (graph, label)\n",
    "        data_list.append(data)\n",
    "\n",
    "    return data_list\n",
    "\n",
    "G_dataset = Seq2Graph(X, y, hyperparam_dict['API_type'])\n",
    "del X, y"
   ]
  },
  {
   "cell_type": "code",
   "execution_count": 6,
   "metadata": {
    "id": "-3ojOQJ0EnFm"
   },
   "outputs": [],
   "source": [
    "fold = KFold(n_splits = hyperparam_dict['n_splits'],\n",
    "             shuffle = True,\n",
    "             random_state = hyperparam_dict['fold_random_state'])"
   ]
  },
  {
   "cell_type": "code",
   "execution_count": 7,
   "metadata": {
    "id": "CSmUTCc6H6Il"
   },
   "outputs": [],
   "source": [
    "def collate(samples):\n",
    "    graphs, labels = map(list, zip(*samples))\n",
    "    graphs = [graph.to(torch.device('cpu')) for graph in graphs]\n",
    "    batch_graph = dgl.batch(graphs)\n",
    "    return batch_graph, torch.tensor(labels)"
   ]
  },
  {
   "cell_type": "markdown",
   "metadata": {
    "id": "UwGLHcCUenhi"
   },
   "source": [
    "# モデルの定義"
   ]
  },
  {
   "cell_type": "code",
   "execution_count": 8,
   "metadata": {
    "id": "j93bhP9oEYm5"
   },
   "outputs": [],
   "source": [
    "if hyperparam_dict['batch_norm']:\n",
    "    class GCN(nn.Module):\n",
    "        def __init__(self, in_dim, hidden1_dim, n_classes, dropout0_rate, dropout1_rate, bias1, bias2, activation1, conv1_norm):\n",
    "            super(GCN, self).__init__()\n",
    "            self.dropout0 = nn.Dropout(p = dropout0_rate)\n",
    "            self.conv1 = GraphConv(in_dim, hidden1_dim, norm = conv1_norm, activation = activation1, bias = bias1)\n",
    "            self.bn1 = nn.BatchNorm1d(hidden1_dim)\n",
    "            self.dropout1 = nn.Dropout(p = dropout1_rate)\n",
    "            self.fc = nn.Linear(in_dim * hidden1_dim, n_classes, bias = bias2)\n",
    "\n",
    "        def forward(self, bg):\n",
    "            h = bg.ndata['feat']\n",
    "            h = self.dropout0(h)\n",
    "            h = self.conv1(bg, h)\n",
    "            h = self.bn1(h)\n",
    "            h = self.dropout1(h)\n",
    "            h = h.reshape(int(h.shape[0] / bg.ndata['feat'].shape[1]), -1)\n",
    "            return self.fc(h).squeeze(dim = 1)\n",
    "\n",
    "else:\n",
    "    class GCN(nn.Module):\n",
    "        def __init__(self, in_dim, hidden1_dim, n_classes, dropout0_rate, dropout1_rate, bias1, bias2, activation1, conv1_norm):\n",
    "            super(GCN, self).__init__()\n",
    "            self.dropout0 = nn.Dropout(p = dropot0_rate)\n",
    "            self.conv1 = GraphConv(in_dim, hidden1_dim, norm = norm1, activation = activation1, bias = bias1)\n",
    "            self.dropout1 = nn.Dropout(p = dropout1_rate)\n",
    "            self.fc = nn.Linear(in_dim * hidden1_dim, n_classes, bias = bias2)\n",
    "\n",
    "        def forward(self, bg):\n",
    "            h = bg.ndata['feat']\n",
    "            h = self.dropout0(h)\n",
    "            h = self.conv1(bg, h)\n",
    "            h = self.dropout1(h)\n",
    "            h = h.reshape(int(h.shape[0] / bg.ndata['feat'].shape[1]), -1)\n",
    "            return self.fc(h).squeeze(dim = 1)"
   ]
  },
  {
   "cell_type": "markdown",
   "metadata": {
    "id": "j_5ULNgbI9IT"
   },
   "source": [
    "# 評価値の定義"
   ]
  },
  {
   "cell_type": "code",
   "execution_count": 9,
   "metadata": {
    "id": "XoOSddSw_V9b"
   },
   "outputs": [],
   "source": [
    "def evaluate(loader, model, metric_dict):\n",
    "\n",
    "    sum_loss = 0.0\n",
    "    all_dataset = len(loader.dataset)\n",
    "    all_output = torch.tensor([]).to(hyperparam_dict['device'])\n",
    "    all_label = torch.tensor([]).to(hyperparam_dict['device'])\n",
    "    \n",
    "    for batch_graph, batch_label in loader:\n",
    "        batch_graph, batch_label = batch_graph.to(hyperparam_dict['device']), batch_label.to(hyperparam_dict['device'])\n",
    "        batch_output = model(batch_graph)\n",
    "        batch_loss = loss_func(batch_output, batch_label)\n",
    "        optimizer.zero_grad()\n",
    "\n",
    "        sum_loss += batch_loss.detach().item() * batch_output.shape[0]\n",
    "        all_output = torch.cat((all_output, batch_output))\n",
    "        all_label = torch.cat((all_label, batch_label))\n",
    "\n",
    "    sigmoid = nn.Sigmoid()\n",
    "    all_pred, all_score, all_label = (all_output >= 0).cpu(), sigmoid(all_output).cpu(), all_label.cpu()\n",
    "    tn, fp, fn, tp = confusion_matrix(all_label, all_pred).flatten()\n",
    "\n",
    "    metric_dict['Loss'].append(sum_loss / all_dataset)\n",
    "    metric_dict['Accuracy'].append(accuracy_score(all_label, all_pred))\n",
    "    metric_dict['Precision'].append(precision_score(all_label, all_pred))\n",
    "    metric_dict['Recall'].append(recall_score(all_label, all_pred))\n",
    "    metric_dict['F1-Score'].append(f1_score(all_label, all_pred))\n",
    "    metric_dict['ROC-Curve'].append(roc_curve(all_label, all_score))\n",
    "    metric_dict['AUC'].append(roc_auc_score(all_label, all_pred))\n",
    "    metric_dict['TP'].append(tp)\n",
    "    metric_dict['FP'].append(fp)\n",
    "    metric_dict['TN'].append(tn)\n",
    "    metric_dict['FN'].append(fn)"
   ]
  },
  {
   "cell_type": "markdown",
   "metadata": {
    "id": "s8Yv5sw3sBcQ"
   },
   "source": [
    "# 学習と評価"
   ]
  },
  {
   "cell_type": "code",
   "execution_count": 10,
   "metadata": {
    "colab": {
     "base_uri": "https://localhost:8080/"
    },
    "id": "KJEB3M8zHdfl",
    "outputId": "b544d572-1791-4bef-b800-85c21dcd168c"
   },
   "outputs": [
    {
     "name": "stdout",
     "output_type": "stream",
     "text": [
      "Fold 0\n",
      "\n",
      "param 0\n",
      "torch.Size([307, 14])\n",
      "Parameter containing:\n",
      "tensor([[-0.0010,  0.0733, -0.1125,  ..., -0.0269, -0.1306, -0.0905],\n",
      "        [-0.0564,  0.0051,  0.0540,  ...,  0.0145,  0.1238, -0.1268],\n",
      "        [-0.0861, -0.0346, -0.0533,  ...,  0.0663,  0.0072, -0.0701],\n",
      "        ...,\n",
      "        [ 0.1286, -0.0134,  0.0535,  ...,  0.0017,  0.0335,  0.0013],\n",
      "        [-0.0217,  0.0569, -0.0376,  ...,  0.0284, -0.1035,  0.0071],\n",
      "        [ 0.0650, -0.0289,  0.0703,  ...,  0.0355, -0.1309,  0.1037]],\n",
      "       device='cuda:0', requires_grad=True)\n",
      "\n",
      "param 1\n",
      "torch.Size([14])\n",
      "Parameter containing:\n",
      "tensor([0., 0., 0., 0., 0., 0., 0., 0., 0., 0., 0., 0., 0., 0.],\n",
      "       device='cuda:0', requires_grad=True)\n",
      "\n",
      "param 2\n",
      "torch.Size([14])\n",
      "Parameter containing:\n",
      "tensor([1., 1., 1., 1., 1., 1., 1., 1., 1., 1., 1., 1., 1., 1.],\n",
      "       device='cuda:0', requires_grad=True)\n",
      "\n",
      "param 3\n",
      "torch.Size([14])\n",
      "Parameter containing:\n",
      "tensor([0., 0., 0., 0., 0., 0., 0., 0., 0., 0., 0., 0., 0., 0.],\n",
      "       device='cuda:0', requires_grad=True)\n",
      "\n",
      "param 4\n",
      "torch.Size([1, 4298])\n",
      "Parameter containing:\n",
      "tensor([[ 0.0067,  0.0019,  0.0028,  ..., -0.0065, -0.0035, -0.0037]],\n",
      "       device='cuda:0', requires_grad=True)\n",
      "\n",
      "param 5\n",
      "torch.Size([1])\n",
      "Parameter containing:\n",
      "tensor([0.0083], device='cuda:0', requires_grad=True)\n",
      "\n",
      "Parameters: 8639\n",
      "\n",
      "Epoch 1\n",
      "\n",
      "\tTrain\n",
      "\t\tLoss : 0.06723772077241359\n",
      "\t\tAccuracy : 0.9801458670988655\n",
      "\t\tPrecision : 0.9812807630511846\n",
      "\t\tRecall : 0.9987022088405534\n",
      "\t\tF1-Score : 0.9899148421621343\n",
      "\t\tAUC : 0.6174572438583621\n",
      "\t\tTP : 38477\n",
      "\t\tTN : 227\n",
      "\t\tFP : 734\n",
      "\t\tFN : 50\n",
      "\n",
      "\tTest\n",
      "\t\tLoss : 0.07255686587995812\n",
      "\t\tAccuracy : 0.9774384685505926\n",
      "\t\tPrecision : 0.9788748564867968\n",
      "\t\tRecall : 0.9983606557377049\n",
      "\t\tF1-Score : 0.9885217391304348\n",
      "\t\tAUC : 0.6093498193942761\n",
      "\t\tTP : 4263\n",
      "\t\tTN : 26\n",
      "\t\tFP : 92\n",
      "\t\tFN : 7\n",
      "\n",
      "\tTime\n",
      "\t\tTrain_Time : 56.487507581710815\n",
      "\t\tEval_Time : 53.48590350151062\n",
      "\n",
      "Epoch 2\n",
      "\n",
      "\tTrain\n",
      "\t\tLoss : 0.0517232136870547\n",
      "\t\tAccuracy : 0.9827542544570502\n",
      "\t\tPrecision : 0.9843110155610155\n",
      "\t\tRecall : 0.9982350040231526\n",
      "\t\tF1-Score : 0.9912241137128054\n",
      "\t\tAUC : 0.6801788963924296\n",
      "\t\tTP : 38459\n",
      "\t\tTN : 348\n",
      "\t\tFP : 613\n",
      "\t\tFN : 68\n",
      "\n",
      "\tTest\n",
      "\t\tLoss : 0.05473579195182453\n",
      "\t\tAccuracy : 0.9804010938924339\n",
      "\t\tPrecision : 0.9818056195301704\n",
      "\t\tRecall : 0.9983606557377049\n",
      "\t\tF1-Score : 0.990013934045518\n",
      "\t\tAUC : 0.6644345651569881\n",
      "\t\tTP : 4263\n",
      "\t\tTN : 39\n",
      "\t\tFP : 79\n",
      "\t\tFN : 7\n",
      "\n",
      "\tTime\n",
      "\t\tTrain_Time : 46.28520345687866\n",
      "\t\tEval_Time : 52.74535036087036\n",
      "\n",
      "Epoch 3\n",
      "\n",
      "\tTrain\n",
      "\t\tLoss : 0.04330565548409068\n",
      "\t\tAccuracy : 0.9862743111831442\n",
      "\t\tPrecision : 0.9872745465274393\n",
      "\t\tRecall : 0.9988060321333091\n",
      "\t\tF1-Score : 0.9930068125516103\n",
      "\t\tAUC : 0.7413384999376222\n",
      "\t\tTP : 38481\n",
      "\t\tTN : 465\n",
      "\t\tFP : 496\n",
      "\t\tFN : 46\n",
      "\n",
      "\tTest\n",
      "\t\tLoss : 0.046011255736150364\n",
      "\t\tAccuracy : 0.9856426618049225\n",
      "\t\tPrecision : 0.9854604200323102\n",
      "\t\tRecall : 1.0\n",
      "\t\tF1-Score : 0.9926769731489016\n",
      "\t\tAUC : 0.7330508474576272\n",
      "\t\tTP : 4270\n",
      "\t\tTN : 55\n",
      "\t\tFP : 63\n",
      "\t\tFN : 0\n",
      "\n",
      "\tTime\n",
      "\t\tTrain_Time : 48.242040157318115\n",
      "\t\tEval_Time : 48.96404409408569\n",
      "\n",
      "Epoch 4\n",
      "\n",
      "\tTrain\n",
      "\t\tLoss : 0.0377209703042451\n",
      "\t\tAccuracy : 0.9866288492706645\n",
      "\t\tPrecision : 0.9872291319399923\n",
      "\t\tRecall : 0.999221325304332\n",
      "\t\tF1-Score : 0.9931890302107789\n",
      "\t\tAUC : 0.740505563796807\n",
      "\t\tTP : 38497\n",
      "\t\tTN : 463\n",
      "\t\tFP : 498\n",
      "\t\tFN : 30\n",
      "\n",
      "\tTest\n",
      "\t\tLoss : 0.04079534849511\n",
      "\t\tAccuracy : 0.986098450319052\n",
      "\t\tPrecision : 0.9859154929577465\n",
      "\t\tRecall : 1.0\n",
      "\t\tF1-Score : 0.9929078014184397\n",
      "\t\tAUC : 0.7415254237288136\n",
      "\t\tTP : 4270\n",
      "\t\tTN : 57\n",
      "\t\tFP : 61\n",
      "\t\tFN : 0\n",
      "\n",
      "\tTime\n",
      "\t\tTrain_Time : 44.922759771347046\n",
      "\t\tEval_Time : 48.87706422805786\n",
      "\n"
     ]
    },
    {
     "ename": "KeyboardInterrupt",
     "evalue": "",
     "output_type": "error",
     "traceback": [
      "\u001b[1;31m---------------------------------------------------------------------------\u001b[0m",
      "\u001b[1;31mKeyboardInterrupt\u001b[0m                         Traceback (most recent call last)",
      "\u001b[1;32m<ipython-input-10-48c78a986308>\u001b[0m in \u001b[0;36m<module>\u001b[1;34m\u001b[0m\n\u001b[0;32m     95\u001b[0m             \u001b[0mloader\u001b[0m \u001b[1;33m=\u001b[0m \u001b[0mtrain_loader\u001b[0m\u001b[1;33m,\u001b[0m\u001b[1;33m\u001b[0m\u001b[1;33m\u001b[0m\u001b[0m\n\u001b[0;32m     96\u001b[0m             \u001b[0mmodel\u001b[0m \u001b[1;33m=\u001b[0m \u001b[0mmodel\u001b[0m\u001b[1;33m,\u001b[0m\u001b[1;33m\u001b[0m\u001b[1;33m\u001b[0m\u001b[0m\n\u001b[1;32m---> 97\u001b[1;33m             \u001b[0mmetric_dict\u001b[0m \u001b[1;33m=\u001b[0m \u001b[0meval_dict\u001b[0m\u001b[1;33m[\u001b[0m\u001b[1;34m'Train'\u001b[0m\u001b[1;33m]\u001b[0m\u001b[1;33m,\u001b[0m\u001b[1;33m\u001b[0m\u001b[1;33m\u001b[0m\u001b[0m\n\u001b[0m\u001b[0;32m     98\u001b[0m             )\n\u001b[0;32m     99\u001b[0m \u001b[1;33m\u001b[0m\u001b[0m\n",
      "\u001b[1;32m<ipython-input-9-a3bd7c80c0bc>\u001b[0m in \u001b[0;36mevaluate\u001b[1;34m(loader, model, metric_dict)\u001b[0m\n\u001b[0;32m      6\u001b[0m     \u001b[0mall_label\u001b[0m \u001b[1;33m=\u001b[0m \u001b[0mtorch\u001b[0m\u001b[1;33m.\u001b[0m\u001b[0mtensor\u001b[0m\u001b[1;33m(\u001b[0m\u001b[1;33m[\u001b[0m\u001b[1;33m]\u001b[0m\u001b[1;33m)\u001b[0m\u001b[1;33m.\u001b[0m\u001b[0mto\u001b[0m\u001b[1;33m(\u001b[0m\u001b[0mhyperparam_dict\u001b[0m\u001b[1;33m[\u001b[0m\u001b[1;34m'device'\u001b[0m\u001b[1;33m]\u001b[0m\u001b[1;33m)\u001b[0m\u001b[1;33m\u001b[0m\u001b[1;33m\u001b[0m\u001b[0m\n\u001b[0;32m      7\u001b[0m \u001b[1;33m\u001b[0m\u001b[0m\n\u001b[1;32m----> 8\u001b[1;33m     \u001b[1;32mfor\u001b[0m \u001b[0mbatch_graph\u001b[0m\u001b[1;33m,\u001b[0m \u001b[0mbatch_label\u001b[0m \u001b[1;32min\u001b[0m \u001b[0mloader\u001b[0m\u001b[1;33m:\u001b[0m\u001b[1;33m\u001b[0m\u001b[1;33m\u001b[0m\u001b[0m\n\u001b[0m\u001b[0;32m      9\u001b[0m         \u001b[0mbatch_graph\u001b[0m\u001b[1;33m,\u001b[0m \u001b[0mbatch_label\u001b[0m \u001b[1;33m=\u001b[0m \u001b[0mbatch_graph\u001b[0m\u001b[1;33m.\u001b[0m\u001b[0mto\u001b[0m\u001b[1;33m(\u001b[0m\u001b[0mhyperparam_dict\u001b[0m\u001b[1;33m[\u001b[0m\u001b[1;34m'device'\u001b[0m\u001b[1;33m]\u001b[0m\u001b[1;33m)\u001b[0m\u001b[1;33m,\u001b[0m \u001b[0mbatch_label\u001b[0m\u001b[1;33m.\u001b[0m\u001b[0mto\u001b[0m\u001b[1;33m(\u001b[0m\u001b[0mhyperparam_dict\u001b[0m\u001b[1;33m[\u001b[0m\u001b[1;34m'device'\u001b[0m\u001b[1;33m]\u001b[0m\u001b[1;33m)\u001b[0m\u001b[1;33m\u001b[0m\u001b[1;33m\u001b[0m\u001b[0m\n\u001b[0;32m     10\u001b[0m         \u001b[0mbatch_output\u001b[0m \u001b[1;33m=\u001b[0m \u001b[0mmodel\u001b[0m\u001b[1;33m(\u001b[0m\u001b[0mbatch_graph\u001b[0m\u001b[1;33m)\u001b[0m\u001b[1;33m\u001b[0m\u001b[1;33m\u001b[0m\u001b[0m\n",
      "\u001b[1;32m~\\anaconda3\\envs\\Test\\lib\\site-packages\\torch\\utils\\data\\dataloader.py\u001b[0m in \u001b[0;36m__next__\u001b[1;34m(self)\u001b[0m\n\u001b[0;32m    433\u001b[0m         \u001b[1;32mif\u001b[0m \u001b[0mself\u001b[0m\u001b[1;33m.\u001b[0m\u001b[0m_sampler_iter\u001b[0m \u001b[1;32mis\u001b[0m \u001b[1;32mNone\u001b[0m\u001b[1;33m:\u001b[0m\u001b[1;33m\u001b[0m\u001b[1;33m\u001b[0m\u001b[0m\n\u001b[0;32m    434\u001b[0m             \u001b[0mself\u001b[0m\u001b[1;33m.\u001b[0m\u001b[0m_reset\u001b[0m\u001b[1;33m(\u001b[0m\u001b[1;33m)\u001b[0m\u001b[1;33m\u001b[0m\u001b[1;33m\u001b[0m\u001b[0m\n\u001b[1;32m--> 435\u001b[1;33m         \u001b[0mdata\u001b[0m \u001b[1;33m=\u001b[0m \u001b[0mself\u001b[0m\u001b[1;33m.\u001b[0m\u001b[0m_next_data\u001b[0m\u001b[1;33m(\u001b[0m\u001b[1;33m)\u001b[0m\u001b[1;33m\u001b[0m\u001b[1;33m\u001b[0m\u001b[0m\n\u001b[0m\u001b[0;32m    436\u001b[0m         \u001b[0mself\u001b[0m\u001b[1;33m.\u001b[0m\u001b[0m_num_yielded\u001b[0m \u001b[1;33m+=\u001b[0m \u001b[1;36m1\u001b[0m\u001b[1;33m\u001b[0m\u001b[1;33m\u001b[0m\u001b[0m\n\u001b[0;32m    437\u001b[0m         \u001b[1;32mif\u001b[0m \u001b[0mself\u001b[0m\u001b[1;33m.\u001b[0m\u001b[0m_dataset_kind\u001b[0m \u001b[1;33m==\u001b[0m \u001b[0m_DatasetKind\u001b[0m\u001b[1;33m.\u001b[0m\u001b[0mIterable\u001b[0m \u001b[1;32mand\u001b[0m\u001b[0;31m \u001b[0m\u001b[0;31m\\\u001b[0m\u001b[1;33m\u001b[0m\u001b[1;33m\u001b[0m\u001b[0m\n",
      "\u001b[1;32m~\\anaconda3\\envs\\Test\\lib\\site-packages\\torch\\utils\\data\\dataloader.py\u001b[0m in \u001b[0;36m_next_data\u001b[1;34m(self)\u001b[0m\n\u001b[0;32m    473\u001b[0m     \u001b[1;32mdef\u001b[0m \u001b[0m_next_data\u001b[0m\u001b[1;33m(\u001b[0m\u001b[0mself\u001b[0m\u001b[1;33m)\u001b[0m\u001b[1;33m:\u001b[0m\u001b[1;33m\u001b[0m\u001b[1;33m\u001b[0m\u001b[0m\n\u001b[0;32m    474\u001b[0m         \u001b[0mindex\u001b[0m \u001b[1;33m=\u001b[0m \u001b[0mself\u001b[0m\u001b[1;33m.\u001b[0m\u001b[0m_next_index\u001b[0m\u001b[1;33m(\u001b[0m\u001b[1;33m)\u001b[0m  \u001b[1;31m# may raise StopIteration\u001b[0m\u001b[1;33m\u001b[0m\u001b[1;33m\u001b[0m\u001b[0m\n\u001b[1;32m--> 475\u001b[1;33m         \u001b[0mdata\u001b[0m \u001b[1;33m=\u001b[0m \u001b[0mself\u001b[0m\u001b[1;33m.\u001b[0m\u001b[0m_dataset_fetcher\u001b[0m\u001b[1;33m.\u001b[0m\u001b[0mfetch\u001b[0m\u001b[1;33m(\u001b[0m\u001b[0mindex\u001b[0m\u001b[1;33m)\u001b[0m  \u001b[1;31m# may raise StopIteration\u001b[0m\u001b[1;33m\u001b[0m\u001b[1;33m\u001b[0m\u001b[0m\n\u001b[0m\u001b[0;32m    476\u001b[0m         \u001b[1;32mif\u001b[0m \u001b[0mself\u001b[0m\u001b[1;33m.\u001b[0m\u001b[0m_pin_memory\u001b[0m\u001b[1;33m:\u001b[0m\u001b[1;33m\u001b[0m\u001b[1;33m\u001b[0m\u001b[0m\n\u001b[0;32m    477\u001b[0m             \u001b[0mdata\u001b[0m \u001b[1;33m=\u001b[0m \u001b[0m_utils\u001b[0m\u001b[1;33m.\u001b[0m\u001b[0mpin_memory\u001b[0m\u001b[1;33m.\u001b[0m\u001b[0mpin_memory\u001b[0m\u001b[1;33m(\u001b[0m\u001b[0mdata\u001b[0m\u001b[1;33m)\u001b[0m\u001b[1;33m\u001b[0m\u001b[1;33m\u001b[0m\u001b[0m\n",
      "\u001b[1;32m~\\anaconda3\\envs\\Test\\lib\\site-packages\\torch\\utils\\data\\_utils\\fetch.py\u001b[0m in \u001b[0;36mfetch\u001b[1;34m(self, possibly_batched_index)\u001b[0m\n\u001b[0;32m     45\u001b[0m         \u001b[1;32melse\u001b[0m\u001b[1;33m:\u001b[0m\u001b[1;33m\u001b[0m\u001b[1;33m\u001b[0m\u001b[0m\n\u001b[0;32m     46\u001b[0m             \u001b[0mdata\u001b[0m \u001b[1;33m=\u001b[0m \u001b[0mself\u001b[0m\u001b[1;33m.\u001b[0m\u001b[0mdataset\u001b[0m\u001b[1;33m[\u001b[0m\u001b[0mpossibly_batched_index\u001b[0m\u001b[1;33m]\u001b[0m\u001b[1;33m\u001b[0m\u001b[1;33m\u001b[0m\u001b[0m\n\u001b[1;32m---> 47\u001b[1;33m         \u001b[1;32mreturn\u001b[0m \u001b[0mself\u001b[0m\u001b[1;33m.\u001b[0m\u001b[0mcollate_fn\u001b[0m\u001b[1;33m(\u001b[0m\u001b[0mdata\u001b[0m\u001b[1;33m)\u001b[0m\u001b[1;33m\u001b[0m\u001b[1;33m\u001b[0m\u001b[0m\n\u001b[0m",
      "\u001b[1;32m<ipython-input-7-573b3c6d36c8>\u001b[0m in \u001b[0;36mcollate\u001b[1;34m(samples)\u001b[0m\n\u001b[0;32m      1\u001b[0m \u001b[1;32mdef\u001b[0m \u001b[0mcollate\u001b[0m\u001b[1;33m(\u001b[0m\u001b[0msamples\u001b[0m\u001b[1;33m)\u001b[0m\u001b[1;33m:\u001b[0m\u001b[1;33m\u001b[0m\u001b[1;33m\u001b[0m\u001b[0m\n\u001b[0;32m      2\u001b[0m     \u001b[0mgraphs\u001b[0m\u001b[1;33m,\u001b[0m \u001b[0mlabels\u001b[0m \u001b[1;33m=\u001b[0m \u001b[0mmap\u001b[0m\u001b[1;33m(\u001b[0m\u001b[0mlist\u001b[0m\u001b[1;33m,\u001b[0m \u001b[0mzip\u001b[0m\u001b[1;33m(\u001b[0m\u001b[1;33m*\u001b[0m\u001b[0msamples\u001b[0m\u001b[1;33m)\u001b[0m\u001b[1;33m)\u001b[0m\u001b[1;33m\u001b[0m\u001b[1;33m\u001b[0m\u001b[0m\n\u001b[1;32m----> 3\u001b[1;33m     \u001b[0mgraphs\u001b[0m \u001b[1;33m=\u001b[0m \u001b[1;33m[\u001b[0m\u001b[0mgraph\u001b[0m\u001b[1;33m.\u001b[0m\u001b[0mto\u001b[0m\u001b[1;33m(\u001b[0m\u001b[0mtorch\u001b[0m\u001b[1;33m.\u001b[0m\u001b[0mdevice\u001b[0m\u001b[1;33m(\u001b[0m\u001b[1;34m'cpu'\u001b[0m\u001b[1;33m)\u001b[0m\u001b[1;33m)\u001b[0m \u001b[1;32mfor\u001b[0m \u001b[0mgraph\u001b[0m \u001b[1;32min\u001b[0m \u001b[0mgraphs\u001b[0m\u001b[1;33m]\u001b[0m\u001b[1;33m\u001b[0m\u001b[1;33m\u001b[0m\u001b[0m\n\u001b[0m\u001b[0;32m      4\u001b[0m     \u001b[0mbatch_graph\u001b[0m \u001b[1;33m=\u001b[0m \u001b[0mdgl\u001b[0m\u001b[1;33m.\u001b[0m\u001b[0mbatch\u001b[0m\u001b[1;33m(\u001b[0m\u001b[0mgraphs\u001b[0m\u001b[1;33m)\u001b[0m\u001b[1;33m\u001b[0m\u001b[1;33m\u001b[0m\u001b[0m\n\u001b[0;32m      5\u001b[0m     \u001b[1;32mreturn\u001b[0m \u001b[0mbatch_graph\u001b[0m\u001b[1;33m,\u001b[0m \u001b[0mtorch\u001b[0m\u001b[1;33m.\u001b[0m\u001b[0mtensor\u001b[0m\u001b[1;33m(\u001b[0m\u001b[0mlabels\u001b[0m\u001b[1;33m)\u001b[0m\u001b[1;33m\u001b[0m\u001b[1;33m\u001b[0m\u001b[0m\n",
      "\u001b[1;32m<ipython-input-7-573b3c6d36c8>\u001b[0m in \u001b[0;36m<listcomp>\u001b[1;34m(.0)\u001b[0m\n\u001b[0;32m      1\u001b[0m \u001b[1;32mdef\u001b[0m \u001b[0mcollate\u001b[0m\u001b[1;33m(\u001b[0m\u001b[0msamples\u001b[0m\u001b[1;33m)\u001b[0m\u001b[1;33m:\u001b[0m\u001b[1;33m\u001b[0m\u001b[1;33m\u001b[0m\u001b[0m\n\u001b[0;32m      2\u001b[0m     \u001b[0mgraphs\u001b[0m\u001b[1;33m,\u001b[0m \u001b[0mlabels\u001b[0m \u001b[1;33m=\u001b[0m \u001b[0mmap\u001b[0m\u001b[1;33m(\u001b[0m\u001b[0mlist\u001b[0m\u001b[1;33m,\u001b[0m \u001b[0mzip\u001b[0m\u001b[1;33m(\u001b[0m\u001b[1;33m*\u001b[0m\u001b[0msamples\u001b[0m\u001b[1;33m)\u001b[0m\u001b[1;33m)\u001b[0m\u001b[1;33m\u001b[0m\u001b[1;33m\u001b[0m\u001b[0m\n\u001b[1;32m----> 3\u001b[1;33m     \u001b[0mgraphs\u001b[0m \u001b[1;33m=\u001b[0m \u001b[1;33m[\u001b[0m\u001b[0mgraph\u001b[0m\u001b[1;33m.\u001b[0m\u001b[0mto\u001b[0m\u001b[1;33m(\u001b[0m\u001b[0mtorch\u001b[0m\u001b[1;33m.\u001b[0m\u001b[0mdevice\u001b[0m\u001b[1;33m(\u001b[0m\u001b[1;34m'cpu'\u001b[0m\u001b[1;33m)\u001b[0m\u001b[1;33m)\u001b[0m \u001b[1;32mfor\u001b[0m \u001b[0mgraph\u001b[0m \u001b[1;32min\u001b[0m \u001b[0mgraphs\u001b[0m\u001b[1;33m]\u001b[0m\u001b[1;33m\u001b[0m\u001b[1;33m\u001b[0m\u001b[0m\n\u001b[0m\u001b[0;32m      4\u001b[0m     \u001b[0mbatch_graph\u001b[0m \u001b[1;33m=\u001b[0m \u001b[0mdgl\u001b[0m\u001b[1;33m.\u001b[0m\u001b[0mbatch\u001b[0m\u001b[1;33m(\u001b[0m\u001b[0mgraphs\u001b[0m\u001b[1;33m)\u001b[0m\u001b[1;33m\u001b[0m\u001b[1;33m\u001b[0m\u001b[0m\n\u001b[0;32m      5\u001b[0m     \u001b[1;32mreturn\u001b[0m \u001b[0mbatch_graph\u001b[0m\u001b[1;33m,\u001b[0m \u001b[0mtorch\u001b[0m\u001b[1;33m.\u001b[0m\u001b[0mtensor\u001b[0m\u001b[1;33m(\u001b[0m\u001b[0mlabels\u001b[0m\u001b[1;33m)\u001b[0m\u001b[1;33m\u001b[0m\u001b[1;33m\u001b[0m\u001b[0m\n",
      "\u001b[1;32m~\\anaconda3\\envs\\Test\\lib\\site-packages\\dgl\\graph.py\u001b[0m in \u001b[0;36mto\u001b[1;34m(self, ctx)\u001b[0m\n\u001b[0;32m   3856\u001b[0m         \"\"\"\n\u001b[0;32m   3857\u001b[0m         \u001b[1;32mfor\u001b[0m \u001b[0mk\u001b[0m \u001b[1;32min\u001b[0m \u001b[0mself\u001b[0m\u001b[1;33m.\u001b[0m\u001b[0mndata\u001b[0m\u001b[1;33m.\u001b[0m\u001b[0mkeys\u001b[0m\u001b[1;33m(\u001b[0m\u001b[1;33m)\u001b[0m\u001b[1;33m:\u001b[0m\u001b[1;33m\u001b[0m\u001b[1;33m\u001b[0m\u001b[0m\n\u001b[1;32m-> 3858\u001b[1;33m             \u001b[0mself\u001b[0m\u001b[1;33m.\u001b[0m\u001b[0mndata\u001b[0m\u001b[1;33m[\u001b[0m\u001b[0mk\u001b[0m\u001b[1;33m]\u001b[0m \u001b[1;33m=\u001b[0m \u001b[0mF\u001b[0m\u001b[1;33m.\u001b[0m\u001b[0mcopy_to\u001b[0m\u001b[1;33m(\u001b[0m\u001b[0mself\u001b[0m\u001b[1;33m.\u001b[0m\u001b[0mndata\u001b[0m\u001b[1;33m[\u001b[0m\u001b[0mk\u001b[0m\u001b[1;33m]\u001b[0m\u001b[1;33m,\u001b[0m \u001b[0mctx\u001b[0m\u001b[1;33m)\u001b[0m\u001b[1;33m\u001b[0m\u001b[1;33m\u001b[0m\u001b[0m\n\u001b[0m\u001b[0;32m   3859\u001b[0m         \u001b[1;32mfor\u001b[0m \u001b[0mk\u001b[0m \u001b[1;32min\u001b[0m \u001b[0mself\u001b[0m\u001b[1;33m.\u001b[0m\u001b[0medata\u001b[0m\u001b[1;33m.\u001b[0m\u001b[0mkeys\u001b[0m\u001b[1;33m(\u001b[0m\u001b[1;33m)\u001b[0m\u001b[1;33m:\u001b[0m\u001b[1;33m\u001b[0m\u001b[1;33m\u001b[0m\u001b[0m\n\u001b[0;32m   3860\u001b[0m             \u001b[0mself\u001b[0m\u001b[1;33m.\u001b[0m\u001b[0medata\u001b[0m\u001b[1;33m[\u001b[0m\u001b[0mk\u001b[0m\u001b[1;33m]\u001b[0m \u001b[1;33m=\u001b[0m \u001b[0mF\u001b[0m\u001b[1;33m.\u001b[0m\u001b[0mcopy_to\u001b[0m\u001b[1;33m(\u001b[0m\u001b[0mself\u001b[0m\u001b[1;33m.\u001b[0m\u001b[0medata\u001b[0m\u001b[1;33m[\u001b[0m\u001b[0mk\u001b[0m\u001b[1;33m]\u001b[0m\u001b[1;33m,\u001b[0m \u001b[0mctx\u001b[0m\u001b[1;33m)\u001b[0m\u001b[1;33m\u001b[0m\u001b[1;33m\u001b[0m\u001b[0m\n",
      "\u001b[1;32m~\\anaconda3\\envs\\Test\\lib\\site-packages\\dgl\\view.py\u001b[0m in \u001b[0;36m__setitem__\u001b[1;34m(self, key, val)\u001b[0m\n\u001b[0;32m     63\u001b[0m         \u001b[1;32mif\u001b[0m \u001b[0misinstance\u001b[0m\u001b[1;33m(\u001b[0m\u001b[0mval\u001b[0m\u001b[1;33m,\u001b[0m \u001b[0mnp\u001b[0m\u001b[1;33m.\u001b[0m\u001b[0mndarray\u001b[0m\u001b[1;33m)\u001b[0m\u001b[1;33m:\u001b[0m\u001b[1;33m\u001b[0m\u001b[1;33m\u001b[0m\u001b[0m\n\u001b[0;32m     64\u001b[0m             \u001b[0mval\u001b[0m \u001b[1;33m=\u001b[0m \u001b[0mF\u001b[0m\u001b[1;33m.\u001b[0m\u001b[0mzerocopy_from_numpy\u001b[0m\u001b[1;33m(\u001b[0m\u001b[0mval\u001b[0m\u001b[1;33m)\u001b[0m\u001b[1;33m\u001b[0m\u001b[1;33m\u001b[0m\u001b[0m\n\u001b[1;32m---> 65\u001b[1;33m         \u001b[0mself\u001b[0m\u001b[1;33m.\u001b[0m\u001b[0m_graph\u001b[0m\u001b[1;33m.\u001b[0m\u001b[0mset_n_repr\u001b[0m\u001b[1;33m(\u001b[0m\u001b[1;33m{\u001b[0m\u001b[0mkey\u001b[0m \u001b[1;33m:\u001b[0m \u001b[0mval\u001b[0m\u001b[1;33m}\u001b[0m\u001b[1;33m,\u001b[0m \u001b[0mself\u001b[0m\u001b[1;33m.\u001b[0m\u001b[0m_nodes\u001b[0m\u001b[1;33m)\u001b[0m\u001b[1;33m\u001b[0m\u001b[1;33m\u001b[0m\u001b[0m\n\u001b[0m\u001b[0;32m     66\u001b[0m \u001b[1;33m\u001b[0m\u001b[0m\n\u001b[0;32m     67\u001b[0m     \u001b[1;32mdef\u001b[0m \u001b[0m__delitem__\u001b[0m\u001b[1;33m(\u001b[0m\u001b[0mself\u001b[0m\u001b[1;33m,\u001b[0m \u001b[0mkey\u001b[0m\u001b[1;33m)\u001b[0m\u001b[1;33m:\u001b[0m\u001b[1;33m\u001b[0m\u001b[1;33m\u001b[0m\u001b[0m\n",
      "\u001b[1;32m~\\anaconda3\\envs\\Test\\lib\\site-packages\\dgl\\graph.py\u001b[0m in \u001b[0;36mset_n_repr\u001b[1;34m(self, data, u, inplace)\u001b[0m\n\u001b[0;32m   2271\u001b[0m                            ' Got \"%s\" instead.' % type(data))\n\u001b[0;32m   2272\u001b[0m         \u001b[1;32mif\u001b[0m \u001b[0mis_all\u001b[0m\u001b[1;33m(\u001b[0m\u001b[0mu\u001b[0m\u001b[1;33m)\u001b[0m\u001b[1;33m:\u001b[0m\u001b[1;33m\u001b[0m\u001b[1;33m\u001b[0m\u001b[0m\n\u001b[1;32m-> 2273\u001b[1;33m             \u001b[0mnum_nodes\u001b[0m \u001b[1;33m=\u001b[0m \u001b[0mself\u001b[0m\u001b[1;33m.\u001b[0m\u001b[0mnumber_of_nodes\u001b[0m\u001b[1;33m(\u001b[0m\u001b[1;33m)\u001b[0m\u001b[1;33m\u001b[0m\u001b[1;33m\u001b[0m\u001b[0m\n\u001b[0m\u001b[0;32m   2274\u001b[0m         \u001b[1;32melse\u001b[0m\u001b[1;33m:\u001b[0m\u001b[1;33m\u001b[0m\u001b[1;33m\u001b[0m\u001b[0m\n\u001b[0;32m   2275\u001b[0m             \u001b[0mu\u001b[0m \u001b[1;33m=\u001b[0m \u001b[0mutils\u001b[0m\u001b[1;33m.\u001b[0m\u001b[0mtoindex\u001b[0m\u001b[1;33m(\u001b[0m\u001b[0mu\u001b[0m\u001b[1;33m)\u001b[0m\u001b[1;33m\u001b[0m\u001b[1;33m\u001b[0m\u001b[0m\n",
      "\u001b[1;32m~\\anaconda3\\envs\\Test\\lib\\site-packages\\dgl\\graph.py\u001b[0m in \u001b[0;36mnumber_of_nodes\u001b[1;34m(self)\u001b[0m\n\u001b[0;32m     50\u001b[0m             \u001b[0mThe\u001b[0m \u001b[0mnumber\u001b[0m \u001b[0mof\u001b[0m \u001b[0mnodes\u001b[0m\u001b[1;33m\u001b[0m\u001b[1;33m\u001b[0m\u001b[0m\n\u001b[0;32m     51\u001b[0m         \"\"\"\n\u001b[1;32m---> 52\u001b[1;33m         \u001b[1;32mreturn\u001b[0m \u001b[0mself\u001b[0m\u001b[1;33m.\u001b[0m\u001b[0m_graph\u001b[0m\u001b[1;33m.\u001b[0m\u001b[0mnumber_of_nodes\u001b[0m\u001b[1;33m(\u001b[0m\u001b[1;33m)\u001b[0m\u001b[1;33m\u001b[0m\u001b[1;33m\u001b[0m\u001b[0m\n\u001b[0m\u001b[0;32m     53\u001b[0m \u001b[1;33m\u001b[0m\u001b[0m\n\u001b[0;32m     54\u001b[0m     \u001b[1;32mdef\u001b[0m \u001b[0mnumber_of_src_nodes\u001b[0m\u001b[1;33m(\u001b[0m\u001b[0mself\u001b[0m\u001b[1;33m)\u001b[0m\u001b[1;33m:\u001b[0m\u001b[1;33m\u001b[0m\u001b[1;33m\u001b[0m\u001b[0m\n",
      "\u001b[1;32m~\\anaconda3\\envs\\Test\\lib\\site-packages\\dgl\\graph_index.py\u001b[0m in \u001b[0;36mnumber_of_nodes\u001b[1;34m(self)\u001b[0m\n\u001b[0;32m    155\u001b[0m             \u001b[0mThe\u001b[0m \u001b[0mnumber\u001b[0m \u001b[0mof\u001b[0m \u001b[0mnodes\u001b[0m\u001b[1;33m\u001b[0m\u001b[1;33m\u001b[0m\u001b[0m\n\u001b[0;32m    156\u001b[0m         \"\"\"\n\u001b[1;32m--> 157\u001b[1;33m         \u001b[1;32mreturn\u001b[0m \u001b[0m_CAPI_DGLGraphNumVertices\u001b[0m\u001b[1;33m(\u001b[0m\u001b[0mself\u001b[0m\u001b[1;33m)\u001b[0m\u001b[1;33m\u001b[0m\u001b[1;33m\u001b[0m\u001b[0m\n\u001b[0m\u001b[0;32m    158\u001b[0m \u001b[1;33m\u001b[0m\u001b[0m\n\u001b[0;32m    159\u001b[0m     \u001b[1;32mdef\u001b[0m \u001b[0mnumber_of_edges\u001b[0m\u001b[1;33m(\u001b[0m\u001b[0mself\u001b[0m\u001b[1;33m)\u001b[0m\u001b[1;33m:\u001b[0m\u001b[1;33m\u001b[0m\u001b[1;33m\u001b[0m\u001b[0m\n",
      "\u001b[1;32m~\\anaconda3\\envs\\Test\\lib\\site-packages\\dgl\\_ffi\\_ctypes\\function.py\u001b[0m in \u001b[0;36m__call__\u001b[1;34m(self, *args)\u001b[0m\n\u001b[0;32m    188\u001b[0m         check_call(_LIB.DGLFuncCall(\n\u001b[0;32m    189\u001b[0m             \u001b[0mself\u001b[0m\u001b[1;33m.\u001b[0m\u001b[0mhandle\u001b[0m\u001b[1;33m,\u001b[0m \u001b[0mvalues\u001b[0m\u001b[1;33m,\u001b[0m \u001b[0mtcodes\u001b[0m\u001b[1;33m,\u001b[0m \u001b[0mctypes\u001b[0m\u001b[1;33m.\u001b[0m\u001b[0mc_int\u001b[0m\u001b[1;33m(\u001b[0m\u001b[0mnum_args\u001b[0m\u001b[1;33m)\u001b[0m\u001b[1;33m,\u001b[0m\u001b[1;33m\u001b[0m\u001b[1;33m\u001b[0m\u001b[0m\n\u001b[1;32m--> 190\u001b[1;33m             ctypes.byref(ret_val), ctypes.byref(ret_tcode)))\n\u001b[0m\u001b[0;32m    191\u001b[0m         \u001b[0m_\u001b[0m \u001b[1;33m=\u001b[0m \u001b[0mtemp_args\u001b[0m\u001b[1;33m\u001b[0m\u001b[1;33m\u001b[0m\u001b[0m\n\u001b[0;32m    192\u001b[0m         \u001b[0m_\u001b[0m \u001b[1;33m=\u001b[0m \u001b[0margs\u001b[0m\u001b[1;33m\u001b[0m\u001b[1;33m\u001b[0m\u001b[0m\n",
      "\u001b[1;31mKeyboardInterrupt\u001b[0m: "
     ]
    }
   ],
   "source": [
    "metric_dict = {\n",
    "    'Loss' : [],\n",
    "    'Accuracy' : [],\n",
    "    'Precision' : [],\n",
    "    'Recall' : [],\n",
    "    'F1-Score' : [],\n",
    "    'ROC-Curve' : [],\n",
    "    'AUC': [],\n",
    "    'TP' : [],\n",
    "    'TN' : [],\n",
    "    'FP' : [],\n",
    "    'FN' : [],\n",
    "}\n",
    "\n",
    "eval_dict = {\n",
    "    'Train' : deepcopy(metric_dict),\n",
    "    'Test' : deepcopy(metric_dict),\n",
    "    'Time' : {\n",
    "        'Train_Time' : [],\n",
    "        'Eval_Time' : [],\n",
    "    },\n",
    "}\n",
    "\n",
    "loss_func = hyperparam_dict['loss_func']\n",
    "\n",
    "train_idx, test_idx = list(fold.split(G_dataset))[hyperparam_dict['fold_index']]\n",
    "\n",
    "print(f'Fold {hyperparam_dict[\"fold_index\"]}')\n",
    "\n",
    "torch.manual_seed(hyperparam_dict['weight_random_state'])\n",
    "\n",
    "model = GCN(\n",
    "    in_dim = hyperparam_dict['API_type'],\n",
    "    hidden1_dim = hyperparam_dict['hidden1_dim'],\n",
    "    n_classes = hyperparam_dict['n_classes'],\n",
    "    dropout0_rate = hyperparam_dict['dropout0_rate'],\n",
    "    dropout1_rate = hyperparam_dict['dropout1_rate'],\n",
    "    bias1 = hyperparam_dict['bias1'],\n",
    "    bias2 = hyperparam_dict['bias2'],\n",
    "    activation1 = hyperparam_dict['activation1'],\n",
    "    conv1_norm = hyperparam_dict['conv1_norm']\n",
    "    ).to(hyperparam_dict['device'])\n",
    "\n",
    "optimizer = hyperparam_dict['optimizer']['algorithm'](\n",
    "    params = model.parameters(),\n",
    "    lr = hyperparam_dict['optimizer']['param']['lr'],\n",
    "    weight_decay = hyperparam_dict['optimizer']['param']['weight_decay']\n",
    "    )\n",
    "\n",
    "temp_optim = {key : optimizer.param_groups[0][key] for key in optimizer.param_groups[0] if key != 'params'}\n",
    "temp_optim['betas'] = list(temp_optim['betas'])\n",
    "hyperparam_dict['optimizer']['param'] = temp_optim\n",
    "\n",
    "for i, param in enumerate(model.parameters()):\n",
    "    print(f'\\nparam {i}')\n",
    "    print(param.shape)\n",
    "    print(param)\n",
    "print(f'\\nParameters: {np.sum([param.numel() for param in model.parameters()])}\\n')\n",
    "\n",
    "train_loader = DataLoader(\n",
    "    Subset(G_dataset, train_idx),\n",
    "    shuffle = True,\n",
    "    batch_size = hyperparam_dict['batch_size'],\n",
    "    collate_fn = collate\n",
    "    )\n",
    "\n",
    "test_loader = DataLoader(\n",
    "    Subset(G_dataset, test_idx),\n",
    "    shuffle = False,\n",
    "    batch_size = hyperparam_dict['batch_size'],\n",
    "    collate_fn = collate\n",
    "    )\n",
    "\n",
    "for epoch in range(hyperparam_dict['epoch']):\n",
    "\n",
    "    # Training\n",
    "    start_train_time = time()\n",
    "    model.train()\n",
    "    for batch_graph, batch_label in train_loader:\n",
    "        batch_graph, batch_label = batch_graph.to(hyperparam_dict['device']), batch_label.to(hyperparam_dict['device'])\n",
    "        output = model(batch_graph)\n",
    "        loss = loss_func(output, batch_label)\n",
    "        optimizer.zero_grad()\n",
    "        loss.backward()\n",
    "        optimizer.step()       \n",
    "    eval_dict['Time']['Train_Time'].append(time() - start_train_time)\n",
    "\n",
    "    # Evaluation\n",
    "    start_eval_time = time()\n",
    "    model.eval()\n",
    "    with torch.no_grad():\n",
    "\n",
    "        # Trainset\n",
    "        evaluate(\n",
    "            loader = train_loader,\n",
    "            model = model,\n",
    "            metric_dict = eval_dict['Train'],\n",
    "            )\n",
    "\n",
    "        # Testset\n",
    "        evaluate(\n",
    "            loader = test_loader,\n",
    "            model = model,\n",
    "            metric_dict = eval_dict['Test'],\n",
    "            )\n",
    "        \n",
    "    eval_dict['Time']['Eval_Time'].append(time() - start_eval_time)\n",
    "\n",
    "    if (epoch + 1) % 1 == 0:\n",
    "        print(f'Epoch {epoch + 1}')\n",
    "        for key, value in eval_dict.items():\n",
    "            print(f'\\n\\t{key}')\n",
    "            for metric in value:\n",
    "                if metric != 'ROC-Curve':\n",
    "                    print(f'\\t\\t{metric} : {value[metric][-1]}')\n",
    "        print()\n",
    "\n",
    "torch.save(model.state_dict(), f'param{hyperparam_dict[\"fold_index\"]}.pth')"
   ]
  },
  {
   "cell_type": "markdown",
   "metadata": {
    "id": "uro339zqYnCn"
   },
   "source": [
    "# 評価値の出力"
   ]
  },
  {
   "cell_type": "code",
   "execution_count": null,
   "metadata": {
    "id": "nqbTgXWLXMcA"
   },
   "outputs": [],
   "source": [
    "def plot(epoch, data1, data2, ylabel, ylim_bottom=0, ylim_top=1, save=True, legend1='train', legend2='test'):\n",
    "\n",
    "    fig = plt.figure()\n",
    "    ax = fig.add_subplot(1,1,1, title=ylabel, xlabel='epoch', xlim=(0, epoch),ylabel=ylabel, ylim=(ylim_bottom, ylim_top))\n",
    "\n",
    "    ax.plot(range(epoch), np.array(data1), marker='None')\n",
    "    \n",
    "    if data2:\n",
    "        ax.plot(range(epoch), np.array(data2), marker='None', c='#ff00ff')\n",
    "        ax.legend([f'{legend1}', f'{legend2}'])\n",
    "    else:\n",
    "        ax.legend(f'{ylabel}')\n",
    "\n",
    "    ax.grid()\n",
    "    # ax.xaxis.set_major_locator(ticker.MultipleLocator(1)) \n",
    "\n",
    "    if save:\n",
    "        plt.savefig(f'{ylabel}.png')\n",
    "\n",
    "    plt.show()"
   ]
  },
  {
   "cell_type": "code",
   "execution_count": 12,
   "metadata": {
    "colab": {
     "base_uri": "https://localhost:8080/",
     "height": 295
    },
    "id": "hHZ0s70PvrIi",
    "outputId": "9bf056a3-d022-4fb7-9c37-36706574c992"
   },
   "outputs": [
    {
     "data": {
      "image/png": "[encoded data removed]",
      "text/plain": [
       "<Figure size 432x288 with 1 Axes>"
      ]
     },
     "metadata": {
      "needs_background": "light"
     },
     "output_type": "display_data"
    }
   ],
   "source": [
    "plot(hyperparam_dict['epoch'], eval_dict['Train']['Loss'], eval_dict['Test']['Loss'], 'Cross-Entropy Loss', ylim_top=0.1)"
   ]
  },
  {
   "cell_type": "code",
   "execution_count": 13,
   "metadata": {
    "colab": {
     "base_uri": "https://localhost:8080/",
     "height": 295
    },
    "id": "XCrxEzNjwJkT",
    "outputId": "5b898aba-565f-428c-e157-2a84a01f1366"
   },
   "outputs": [
    {
     "data": {
      "image/png": "[encoded data removed]",
      "text/plain": [
       "<Figure size 432x288 with 1 Axes>"
      ]
     },
     "metadata": {
      "needs_background": "light"
     },
     "output_type": "display_data"
    }
   ],
   "source": [
    "plot(hyperparam_dict['epoch'], eval_dict['Train']['Accuracy'], eval_dict['Test']['Accuracy'], 'Accuracy', ylim_bottom=0.97)"
   ]
  },
  {
   "cell_type": "code",
   "execution_count": 14,
   "metadata": {
    "colab": {
     "base_uri": "https://localhost:8080/",
     "height": 295
    },
    "id": "7tVRsCw6w3hb",
    "outputId": "deab7bd8-7b38-428c-d793-3a2d21d8385c"
   },
   "outputs": [
    {
     "data": {
      "image/png": "[encoded data removed]",
      "text/plain": [
       "<Figure size 432x288 with 1 Axes>"
      ]
     },
     "metadata": {
      "needs_background": "light"
     },
     "output_type": "display_data"
    }
   ],
   "source": [
    "plot(hyperparam_dict['epoch'], eval_dict['Train']['Precision'], eval_dict['Test']['Precision'], 'Precision', ylim_bottom=0.97)"
   ]
  },
  {
   "cell_type": "code",
   "execution_count": 15,
   "metadata": {
    "colab": {
     "base_uri": "https://localhost:8080/",
     "height": 295
    },
    "id": "MXKnYHWPw85F",
    "outputId": "7ca08717-19e4-48fe-fc1f-8318094f2be3"
   },
   "outputs": [
    {
     "data": {
      "image/png": "[encoded data removed]",
      "text/plain": [
       "<Figure size 432x288 with 1 Axes>"
      ]
     },
     "metadata": {
      "needs_background": "light"
     },
     "output_type": "display_data"
    }
   ],
   "source": [
    "plot(hyperparam_dict['epoch'], eval_dict['Train']['Recall'], eval_dict['Test']['Recall'], 'Recall', ylim_bottom=0.99)"
   ]
  },
  {
   "cell_type": "code",
   "execution_count": 16,
   "metadata": {
    "colab": {
     "base_uri": "https://localhost:8080/",
     "height": 295
    },
    "id": "oVNuj20ixCY8",
    "outputId": "2392eced-c885-4d79-c91c-87c27e715fb2"
   },
   "outputs": [
    {
     "data": {
      "image/png": "[encoded data removed]",
      "text/plain": [
       "<Figure size 432x288 with 1 Axes>"
      ]
     },
     "metadata": {
      "needs_background": "light"
     },
     "output_type": "display_data"
    }
   ],
   "source": [
    "plot(hyperparam_dict['epoch'], eval_dict['Train']['F1-Score'], eval_dict['Test']['F1-Score'], 'F1-Score', ylim_bottom=0.98)"
   ]
  },
  {
   "cell_type": "code",
   "execution_count": 17,
   "metadata": {
    "colab": {
     "base_uri": "https://localhost:8080/",
     "height": 295
    },
    "id": "mzPhyTX94VPT",
    "outputId": "fdea5479-a308-455f-94f4-89bb5efb5e20"
   },
   "outputs": [
    {
     "data": {
      "image/png": "[encoded data removed]",
      "text/plain": [
       "<Figure size 432x288 with 1 Axes>"
      ]
     },
     "metadata": {
      "needs_background": "light"
     },
     "output_type": "display_data"
    }
   ],
   "source": [
    "plot(hyperparam_dict['epoch'], eval_dict['Train']['AUC'], eval_dict['Test']['AUC'], 'AUC', ylim_bottom=0.8)"
   ]
  },
  {
   "cell_type": "code",
   "execution_count": 18,
   "metadata": {
    "colab": {
     "base_uri": "https://localhost:8080/",
     "height": 295
    },
    "id": "k0RrtBBl4eNT",
    "outputId": "c35c84ee-1378-4502-d712-ecdfcfe5220a"
   },
   "outputs": [
    {
     "data": {
      "image/png": "[encoded data removed]",
      "text/plain": [
       "<Figure size 432x288 with 1 Axes>"
      ]
     },
     "metadata": {
      "needs_background": "light"
     },
     "output_type": "display_data"
    }
   ],
   "source": [
    "plot(hyperparam_dict['epoch'], eval_dict['Time']['Train_Time'], eval_dict['Time']['Eval_Time'], 'Time', ylim_top=100, legend2='eval')"
   ]
  },
  {
   "cell_type": "code",
   "execution_count": 19,
   "metadata": {
    "colab": {
     "base_uri": "https://localhost:8080/"
    },
    "id": "r3Ftci29xLrb",
    "outputId": "0ca90c80-3379-4fe8-90ec-f0306b4b3fb7"
   },
   "outputs": [
    {
     "name": "stdout",
     "output_type": "stream",
     "text": [
      "Train\n",
      "Accuracy\n",
      "(92, 0.9944286871961102)\n",
      "Precision\n",
      "(85, 0.995139607032058)\n",
      "Recall\n",
      "(29, 0.999610662652166)\n",
      "F1-Score\n",
      "(92, 0.9971507019634253)\n",
      "AUC\n",
      "(85, 0.9017309968194798)\n",
      "\n",
      "Test\n",
      "Accuracy\n",
      "(9, 0.99179580674567)\n",
      "Precision\n",
      "(9, 0.9927839851024208)\n",
      "Recall\n",
      "(3, 0.9997658079625292)\n",
      "F1-Score\n",
      "(33, 0.9957983193277311)\n",
      "AUC\n",
      "(9, 0.8680585877029333)\n",
      "\n"
     ]
    }
   ],
   "source": [
    "def find_max(eval_dict):\n",
    "    for key, value in eval_dict.items():\n",
    "        if key != 'Time':\n",
    "            print(key)\n",
    "            for metric in value:\n",
    "                if metric not in {'Loss', 'ROC-Curve', 'TP', 'FP', 'TN', 'FN'}:\n",
    "                    print(metric)\n",
    "                    print(max(enumerate(np.array(value[metric])), key = lambda x : x[1]))\n",
    "            print()\n",
    "\n",
    "find_max(eval_dict)"
   ]
  },
  {
   "cell_type": "code",
   "execution_count": 20,
   "metadata": {
    "id": "AuP4xtNAS_VG"
   },
   "outputs": [
    {
     "name": "stdout",
     "output_type": "stream",
     "text": [
      "0 : 0.9885\n",
      "1 : 0.9901\n",
      "2 : 0.992\n",
      "3 : 0.9928\n",
      "4 : 0.9952\n",
      "5 : 0.9952\n",
      "6 : 0.9953\n",
      "7 : 0.9955\n",
      "8 : 0.9957\n",
      "9 : 0.9958\n",
      "10 : 0.9956\n",
      "11 : 0.9956\n",
      "12 : 0.9956\n",
      "13 : 0.9956\n",
      "14 : 0.9957\n",
      "15 : 0.9957\n",
      "16 : 0.9954\n",
      "17 : 0.9956\n",
      "18 : 0.9957\n",
      "19 : 0.9952\n",
      "20 : 0.9956\n",
      "21 : 0.9954\n",
      "22 : 0.9954\n",
      "23 : 0.9954\n",
      "24 : 0.9956\n",
      "25 : 0.9954\n",
      "26 : 0.9953\n",
      "27 : 0.9952\n",
      "28 : 0.9954\n",
      "29 : 0.9951\n",
      "30 : 0.9957\n",
      "31 : 0.9954\n",
      "32 : 0.9954\n",
      "33 : 0.9958\n",
      "34 : 0.9954\n",
      "35 : 0.9954\n",
      "36 : 0.9951\n",
      "37 : 0.9954\n",
      "38 : 0.9952\n",
      "39 : 0.995\n",
      "40 : 0.9958\n",
      "41 : 0.9958\n",
      "42 : 0.9957\n",
      "43 : 0.9956\n",
      "44 : 0.9958\n",
      "45 : 0.9952\n",
      "46 : 0.9957\n",
      "47 : 0.9957\n",
      "48 : 0.9954\n",
      "49 : 0.9952\n",
      "50 : 0.9956\n",
      "51 : 0.9951\n",
      "52 : 0.9953\n",
      "53 : 0.9951\n",
      "54 : 0.9952\n",
      "55 : 0.9951\n",
      "56 : 0.9956\n",
      "57 : 0.9958\n",
      "58 : 0.9949\n",
      "59 : 0.9953\n",
      "60 : 0.9958\n",
      "61 : 0.9953\n",
      "62 : 0.9953\n",
      "63 : 0.9952\n",
      "64 : 0.9952\n",
      "65 : 0.9957\n",
      "66 : 0.9956\n",
      "67 : 0.9954\n",
      "68 : 0.9953\n",
      "69 : 0.9952\n",
      "70 : 0.9952\n",
      "71 : 0.9952\n",
      "72 : 0.9951\n",
      "73 : 0.9956\n",
      "74 : 0.9957\n",
      "75 : 0.9957\n",
      "76 : 0.9951\n",
      "77 : 0.9952\n",
      "78 : 0.9957\n",
      "79 : 0.9952\n",
      "80 : 0.9949\n",
      "81 : 0.9953\n",
      "82 : 0.9957\n",
      "83 : 0.9951\n",
      "84 : 0.9953\n",
      "85 : 0.9953\n",
      "86 : 0.9951\n",
      "87 : 0.995\n",
      "88 : 0.9957\n",
      "89 : 0.9954\n",
      "90 : 0.9954\n",
      "91 : 0.9956\n",
      "92 : 0.9956\n",
      "93 : 0.9958\n",
      "94 : 0.9952\n",
      "95 : 0.9956\n",
      "96 : 0.9952\n",
      "97 : 0.9952\n",
      "98 : 0.9952\n",
      "99 : 0.995\n",
      "100 : 0.9952\n",
      "101 : 0.9952\n",
      "102 : 0.9958\n",
      "103 : 0.9954\n",
      "104 : 0.9956\n",
      "105 : 0.9956\n",
      "106 : 0.9952\n",
      "107 : 0.9954\n",
      "108 : 0.9954\n",
      "109 : 0.9952\n",
      "110 : 0.9953\n",
      "111 : 0.9954\n",
      "112 : 0.9952\n",
      "113 : 0.9953\n",
      "114 : 0.995\n",
      "115 : 0.9953\n",
      "116 : 0.9954\n",
      "117 : 0.9952\n",
      "118 : 0.9954\n",
      "119 : 0.9953\n",
      "120 : 0.9954\n",
      "121 : 0.9953\n",
      "122 : 0.9954\n",
      "123 : 0.9952\n",
      "124 : 0.9952\n",
      "125 : 0.9957\n",
      "126 : 0.9954\n",
      "127 : 0.9956\n",
      "128 : 0.9954\n",
      "129 : 0.9954\n",
      "130 : 0.9956\n",
      "131 : 0.9954\n",
      "132 : 0.9954\n",
      "133 : 0.9956\n",
      "134 : 0.9956\n",
      "135 : 0.9952\n",
      "136 : 0.9956\n",
      "137 : 0.9954\n",
      "138 : 0.9954\n",
      "139 : 0.995\n",
      "140 : 0.9956\n",
      "141 : 0.995\n",
      "142 : 0.9952\n",
      "143 : 0.9956\n",
      "144 : 0.9957\n",
      "145 : 0.9956\n",
      "146 : 0.995\n",
      "147 : 0.9952\n",
      "148 : 0.9953\n",
      "149 : 0.9953\n",
      "150 : 0.9952\n",
      "151 : 0.9956\n",
      "152 : 0.9953\n",
      "153 : 0.9951\n",
      "154 : 0.9956\n",
      "155 : 0.9951\n",
      "156 : 0.9957\n",
      "157 : 0.9957\n",
      "158 : 0.9951\n",
      "159 : 0.9956\n",
      "160 : 0.9952\n",
      "161 : 0.9953\n",
      "162 : 0.9956\n",
      "163 : 0.9952\n",
      "164 : 0.9953\n",
      "165 : 0.995\n",
      "166 : 0.9956\n",
      "167 : 0.9956\n",
      "168 : 0.9954\n",
      "169 : 0.9954\n",
      "170 : 0.9953\n",
      "171 : 0.9952\n",
      "172 : 0.9952\n",
      "173 : 0.9956\n",
      "174 : 0.9956\n",
      "175 : 0.995\n",
      "176 : 0.9951\n",
      "177 : 0.9952\n",
      "178 : 0.9954\n",
      "179 : 0.9954\n",
      "180 : 0.9954\n",
      "181 : 0.9956\n",
      "182 : 0.9952\n",
      "183 : 0.9956\n",
      "184 : 0.9954\n",
      "185 : 0.9952\n",
      "186 : 0.9951\n",
      "187 : 0.9953\n",
      "188 : 0.9953\n",
      "189 : 0.9954\n",
      "190 : 0.9952\n",
      "191 : 0.9951\n",
      "192 : 0.9952\n",
      "193 : 0.9953\n",
      "194 : 0.9952\n",
      "195 : 0.9957\n",
      "196 : 0.9956\n",
      "197 : 0.9953\n",
      "198 : 0.9954\n",
      "199 : 0.9953\n"
     ]
    }
   ],
   "source": [
    "def output(metric, key = 'Test' ,digit = 4):\n",
    "    for i, x in enumerate(np.array(eval_dict[key][metric])):\n",
    "        print(f'{i} : {round(x, digit)}')\n",
    "\n",
    "output('F1-Score')"
   ]
  },
  {
   "cell_type": "code",
   "execution_count": 21,
   "metadata": {
    "colab": {
     "base_uri": "https://localhost:8080/",
     "height": 297
    },
    "id": "cupa49tzTfvi",
    "outputId": "49f6d61c-b2cf-4521-bb30-5bd91e2fdf24"
   },
   "outputs": [
    {
     "name": "stdout",
     "output_type": "stream",
     "text": [
      "0.8680585877029333\n"
     ]
    },
    {
     "data": {
      "image/png": "[encoded data removed]",
      "text/plain": [
       "<Figure size 432x288 with 1 Axes>"
      ]
     },
     "metadata": {
      "needs_background": "light"
     },
     "output_type": "display_data"
    }
   ],
   "source": [
    "def plot_ROC_Curve(epoch, key = 'Test'):\n",
    "\n",
    "    fpr, tpr, _ = eval_dict['Test']['ROC-Curve'][epoch]\n",
    "    print(eval_dict['Test']['AUC'][epoch])\n",
    "    fig = plt.figure()\n",
    "    ax = fig.add_subplot(1, 1, 1)\n",
    "    ax.plot(fpr, tpr, marker='.',c='#ff00ff')\n",
    "    ax.set_xlabel('FPR: False Positive Rete')\n",
    "    ax.set_ylabel('TPR: True Positive Rete')\n",
    "    # ax.set_aspect('equal')\n",
    "    ax.grid()\n",
    "\n",
    "plot_ROC_Curve(9)"
   ]
  },
  {
   "cell_type": "markdown",
   "metadata": {
    "id": "WiaH70u1Yd5D"
   },
   "source": [
    "# ハイパーパラメータ・評価値の保存"
   ]
  },
  {
   "cell_type": "code",
   "execution_count": 22,
   "metadata": {
    "colab": {
     "base_uri": "https://localhost:8080/"
    },
    "id": "70NSfPVIneT-",
    "outputId": "59de1e1c-dbc2-4b6b-f57b-90e614602413"
   },
   "outputs": [],
   "source": [
    "hyperparam_dict['activation1'] = str(hyperparam_dict['activation1'])\n",
    "hyperparam_dict['loss_func'] = str(hyperparam_dict['loss_func'])\n",
    "hyperparam_dict['device'] = str(hyperparam_dict['device'])\n",
    "hyperparam_dict['optimizer']['algorithm'] = str(hyperparam_dict['optimizer']['algorithm'])\n",
    "\n",
    "json.dump(hyperparam_dict, open('hyperparameter.json', 'w'), indent=4)\n",
    "pickle.dump(eval_dict, open('evaluation.pkl', 'wb'))"
   ]
  },
  {
   "cell_type": "markdown",
   "metadata": {
    "id": "FwNWnQ2MYvnr"
   },
   "source": [
    "# 学習・保存の終了時にビープ音で通知"
   ]
  },
  {
   "cell_type": "code",
   "execution_count": 23,
   "metadata": {
    "id": "icczZkYcM26S"
   },
   "outputs": [],
   "source": [
    "Beep(1100, 1000)"
   ]
  }
 ],
 "metadata": {
  "accelerator": "GPU",
  "colab": {
   "collapsed_sections": [],
   "name": "1-Layer_GCN_Balanced_Dataset.ipynb",
   "provenance": []
  },
  "kernelspec": {
   "display_name": "Python 3",
   "language": "python",
   "name": "python3"
  },
  "language_info": {
   "codemirror_mode": {
    "name": "ipython",
    "version": 3
   },
   "file_extension": ".py",
   "mimetype": "text/x-python",
   "name": "python",
   "nbconvert_exporter": "python",
   "pygments_lexer": "ipython3",
   "version": "3.6.9"
  }
 },
 "nbformat": 4,
 "nbformat_minor": 4
}
